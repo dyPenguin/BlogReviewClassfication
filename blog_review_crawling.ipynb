{
 "cells": [
  {
   "cell_type": "code",
   "execution_count": 18,
   "metadata": {},
   "outputs": [],
   "source": [
    "import pandas as pd\n",
    "import numpy as np\n",
    "import time\n",
    "from selenium import webdriver\n",
    "from selenium.common.exceptions import NoSuchElementException"
   ]
  },
  {
   "cell_type": "code",
   "execution_count": 19,
   "metadata": {},
   "outputs": [],
   "source": [
    "import sys\n",
    "sys.path.insert(0, 'usr/lib/chromium-browser/chromedriver')"
   ]
  },
  {
   "cell_type": "code",
   "execution_count": 20,
   "metadata": {},
   "outputs": [],
   "source": [
    "options = webdriver.ChromeOptions()\n",
    "# option.add_argument('headless')\n",
    "options.add_argument('disable-gpu')\n",
    "options.add_argument('lang=ko_KR')\n",
    "driver = webdriver.Chrome('chromedriver', options=options)"
   ]
  },
  {
   "cell_type": "code",
   "execution_count": 21,
   "metadata": {},
   "outputs": [
    {
     "name": "stdout",
     "output_type": "stream",
     "text": [
      "풀 배열 블루투스 키보드 로지텍 K780, 멀티 페어링은 기본!\n",
      "창 닫기\n",
      "[아이노트 블루투스 키보드]... 잘 어울리는 가성비 키보드\n",
      "창 닫기\n",
      "엑토 접이식 블루투스 키보드 터치패드도 돼요\n",
      "창 닫기\n",
      "블루투스 키보드 로지텍 K580 K380, 취향에 맞게 선택하자\n",
      "창 닫기\n",
      "[제품리뷰/블루투스 키보드]로지텍 블루투스 키보드K375s\n",
      "창 닫기\n",
      "아이노트 K708RB 무선 블루투스 키보드 내돈내산 한 달 사용기\n",
      "창 닫기\n",
      "블루투스 키보드 가성비 로지텍 K780 사용기\n",
      "창 닫기\n",
      "마소 서피스 블루투스 키보드 살사람 보시오.\n",
      "창 닫기\n",
      "블루투스 키보드, 와이즈핏 가성비 끝내주는데!?\n",
      "창 닫기\n",
      "['풀 배열 블루투스 키보드 로지텍 K780, 멀티 페어링은 기본!', '[아이노트 블루투스 키보드]... 잘 어울리는 가성비 키보드', '엑토 접이식 블루투스 키보드 터치패드도 돼요', '블루투스 키보드 로지텍 K580 K380, 취향에 맞게 선택하자', '[제품리뷰/블루투스 키보드]로지텍 블루투스 키보드K375s', '아이노트 K708RB 무선 블루투스 키보드 내돈내산 한 달 사용기', '블루투스 키보드 가성비 로지텍 K780 사용기', '마소 서피스 블루투스 키보드 살사람 보시오.', '블루투스 키보드, 와이즈핏 가성비 끝내주는데!?']\n"
     ]
    }
   ],
   "source": [
    "lst_keyword = ['블루투스 키보드']\n",
    "lst_title = []\n",
    "for keyword in lst_keyword:\n",
    "    for page in range(1):\n",
    "        try:\n",
    "            url = f'https://search.naver.com/search.naver?date_from=&date_option=0&date_to=&dup_remove=1&nso=&post_blogurl=&post_blogurl_without=\\\n",
    "            &query={keyword}&sm=tab_pge&srchby=all&st=sim&where=post&start={page*10 + 1}'\n",
    "            driver.get(url)\n",
    "            time.sleep(2.5)\n",
    "\n",
    "            for i in range(1, 11):\n",
    "                #제목 클릭 및 크롤링\n",
    "                try:\n",
    "                    title = driver.find_element_by_xpath(f'//*[@id=\"sp_blog_{i}\"]/dl/dt/a').text\n",
    "                    lst_title.append(title)\n",
    "                    print(title)\n",
    "                    driver.find_element_by_xpath(f'//*[@id=\"sp_blog_{i}\"]/dl/dt/a').click()\n",
    "                    time.sleep(2.5)\n",
    "                    #window 탭 이동\n",
    "                    driver.switch_to.window(driver.window_handles[1])\n",
    "                    time.sleep(1.0)\n",
    "                except:\n",
    "                    continue\n",
    "                finally:\n",
    "                    print('창 닫기')\n",
    "                    driver.close()\n",
    "                    time.sleep(1)\n",
    "                    driver.switch_to.window(driver.window_handles[0])\n",
    "        except:\n",
    "            continue\n",
    "        \n",
    "\n",
    "print(lst_title)\n",
    "            "
   ]
  },
  {
   "cell_type": "markdown",
   "metadata": {},
   "source": [
    "<p>//*[@id=\"sp_blog_1\"]/dl/dt/a\n",
    "<p>//*[@id=\"sp_blog_2\"]/dl/dt/a"
   ]
  },
  {
   "cell_type": "code",
   "execution_count": null,
   "metadata": {},
   "outputs": [],
   "source": []
  }
 ],
 "metadata": {
  "kernelspec": {
   "display_name": "Python 3",
   "language": "python",
   "name": "python3"
  },
  "language_info": {
   "codemirror_mode": {
    "name": "ipython",
    "version": 3
   },
   "file_extension": ".py",
   "mimetype": "text/x-python",
   "name": "python",
   "nbconvert_exporter": "python",
   "pygments_lexer": "ipython3",
   "version": "3.7.9"
  },
  "toc": {
   "base_numbering": 1,
   "nav_menu": {},
   "number_sections": true,
   "sideBar": true,
   "skip_h1_title": false,
   "title_cell": "Table of Contents",
   "title_sidebar": "Contents",
   "toc_cell": false,
   "toc_position": {},
   "toc_section_display": true,
   "toc_window_display": false
  }
 },
 "nbformat": 4,
 "nbformat_minor": 4
}
